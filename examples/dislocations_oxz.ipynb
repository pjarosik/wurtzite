{
 "cells": [
  {
   "cell_type": "code",
   "execution_count": null,
   "id": "initial_id",
   "metadata": {
    "ExecuteTime": {
     "end_time": "2023-08-01T14:36:08.016461667Z",
     "start_time": "2023-08-01T14:36:07.940724259Z"
    }
   },
   "outputs": [],
   "source": [
    "import numpy as np\n",
    "import crystalpy as crp\n",
    "import matplotlib.pyplot as plt\n",
    "import matplotlib"
   ]
  },
  {
   "cell_type": "markdown",
   "id": "4a9ddeaa-511a-4947-97b0-de2ba2e32ea2",
   "metadata": {},
   "source": [
    "## 1st dislocation"
   ]
  },
  {
   "cell_type": "code",
   "execution_count": null,
   "id": "bdcf0c919294f6f7",
   "metadata": {
    "collapsed": false,
    "jupyter": {
     "outputs_hidden": false
    }
   },
   "outputs": [],
   "source": [
    "l0 = crp.generate.create_lattice(\n",
    "    dimensions=(5, 5, 3),  #  The number of cells\n",
    "    cell=\"B4_ZnS\",\n",
    ")"
   ]
  },
  {
   "cell_type": "code",
   "execution_count": null,
   "id": "51dd5614a35eaf04",
   "metadata": {
    "collapsed": false,
    "jupyter": {
     "outputs_hidden": false
    }
   },
   "outputs": [],
   "source": [
    "crp.visualization.render(molecule=l0, window_size=(800, 800))"
   ]
  },
  {
   "cell_type": "code",
   "execution_count": null,
   "id": "3c5683a0-7b6a-4c10-99b1-c84544d180e0",
   "metadata": {},
   "outputs": [],
   "source": [
    "b0 = [1, 0, 0]\n",
    "position0 = [5, 4.7, 7.5]\n",
    "plane0 = (0, 1, 0)\n",
    "\n",
    "u0 = crp.dislocations.displace_love(\n",
    "    crystal=l0,\n",
    "    position=position0,\n",
    "    burgers_vector=b0,\n",
    "    plane=plane0,\n",
    "    bv_fraction=1.5,\n",
    ")"
   ]
  },
  {
   "cell_type": "code",
   "execution_count": null,
   "id": "bb65bac7-c229-47bb-bd84-e2569ce666f5",
   "metadata": {},
   "outputs": [],
   "source": [
    "%matplotlib widget\n",
    "plt.xlabel(\"OX ($\\AA$)\")\n",
    "plt.ylabel(\"OZ ($\\AA$)\")\n",
    "plt.title(\"Dislocation field (u), y = 0 projection\")\n",
    "y_dim = 2\n",
    "x_dim = 0\n",
    "\n",
    "plt.quiver(l0.coordinates[..., x_dim], l0.coordinates[..., y_dim], u0[..., x_dim], u0[..., y_dim], \n",
    "           color=crp.visualization.vectors_to_rgb(u0[..., (x_dim, y_dim)]))\n",
    "plt.scatter(position0[x_dim], position0[y_dim], s=200.5, c=\"brown\", marker=\"1\")\n",
    "plt.tight_layout()\n",
    "plt.gca().invert_yaxis()"
   ]
  },
  {
   "cell_type": "code",
   "execution_count": null,
   "id": "e17feec0-c005-4f67-bbf9-9dd1c3b760e2",
   "metadata": {},
   "outputs": [],
   "source": [
    "l1 = l0.translate(u0)\n",
    "crp.visualization.render(molecule=l0+u0, window_size=(800, 800))"
   ]
  },
  {
   "cell_type": "code",
   "execution_count": null,
   "id": "9851e033-48d3-4540-9bbc-f2b61eec3df1",
   "metadata": {},
   "outputs": [],
   "source": [
    "def beta(burgers_vector, bv_fraction, plane, cell, x):\n",
    "    rt = crp.dislocations._get_rotation_tensor(\n",
    "        burgers_vector=burgers_vector,\n",
    "        plane=plane,\n",
    "        cell=cell\n",
    "    )\n",
    "    burgers_vector = bv_fraction*cell.to_cartesian_indices(burgers_vector)\n",
    "    burgers_vector = burgers_vector.reshape(-1, 1)\n",
    "    burgers_vector = rt.dot(burgers_vector).squeeze()\n",
    "\n",
    "    be = np.sqrt(burgers_vector[0]**2 + burgers_vector[1]**2)\n",
    "    bz = burgers_vector[2]\n",
    "    return crp.dislocations.beta_function(x, be=be, bz=bz)"
   ]
  },
  {
   "cell_type": "code",
   "execution_count": null,
   "id": "8bbd55a1-0bf5-41fa-a237-a82a06e2eb26",
   "metadata": {},
   "outputs": [],
   "source": [
    "beta0 = beta(burgers_vector=b0, bv_fraction=0.5, plane=plane0, cell=l1.cell, x=l1.coordinates)"
   ]
  },
  {
   "cell_type": "markdown",
   "id": "2eb520f9-f9e6-4149-b3c6-ada88b0c03f1",
   "metadata": {},
   "source": [
    "## 2nd dislocation"
   ]
  },
  {
   "cell_type": "code",
   "execution_count": null,
   "id": "ec5d5f00-71c1-43fd-9789-c1313c92c940",
   "metadata": {},
   "outputs": [],
   "source": [
    "b1 = [1, 0, 0]\n",
    "b1_fraction = 0.5\n",
    "position1 = np.asarray([3.3, 0.0, 1.8]).reshape(1, -1)\n",
    "plane1 = (0, 1, 0)"
   ]
  },
  {
   "cell_type": "markdown",
   "id": "c0a8e1f2-5281-4853-ba3d-89d5983adbea",
   "metadata": {},
   "source": [
    "$\\beta_0 \\rightarrow F$"
   ]
  },
  {
   "cell_type": "markdown",
   "id": "cca9a685-1634-440b-b2a3-3f9a3a810dc1",
   "metadata": {},
   "source": [
    "Pytania:\n",
    "- beta0_b1?"
   ]
  },
  {
   "cell_type": "code",
   "execution_count": null,
   "id": "d5369829-e5c9-49b4-98f2-0f972b93bda5",
   "metadata": {},
   "outputs": [],
   "source": [
    "one = np.diag(np.ones(3)).reshape(1, 3, 3)\n",
    "beta0_b1 = beta(burgers_vector=b0, bv_fraction=0.5, plane=plane0, cell=l1.cell, x=position1)\n",
    "F = one-beta0_b1\n",
    "# TODO czy ponizsze jest poprawne? (w przecwinym razie mamy macierz nieosobliowa)\n",
    "F = F[:, :2, :2]  # 2x2 matrix\n",
    "F = np.linalg.inv(F)\n",
    "result = np.zeros((3, 3))\n",
    "result[:2, :2] = F.squeeze()\n",
    "F = result\n",
    "F"
   ]
  },
  {
   "cell_type": "markdown",
   "id": "d4e9fef1-5411-4e0f-a028-eef52e831377",
   "metadata": {},
   "source": [
    "Rotate b1"
   ]
  },
  {
   "cell_type": "code",
   "execution_count": null,
   "id": "66f7efec-1bf9-42d3-b17a-4466363c5b83",
   "metadata": {},
   "outputs": [],
   "source": [
    "b1_actual = F.dot(b1)\n",
    "b1_actual"
   ]
  },
  {
   "cell_type": "markdown",
   "id": "5c35f8c2-f3aa-4223-a61b-888e907948d3",
   "metadata": {},
   "source": [
    "$b_1 \\rightarrow \\beta_1$"
   ]
  },
  {
   "cell_type": "code",
   "execution_count": null,
   "id": "63d5fc2e-1467-44ed-b57f-1a66befe8216",
   "metadata": {},
   "outputs": [],
   "source": [
    "beta1 = beta(burgers_vector=b1, bv_fraction=b1_fraction, plane=plane1, cell=l1.cell, x=l1.coordinates)\n",
    "beta1[0]"
   ]
  }
 ],
 "metadata": {
  "kernelspec": {
   "display_name": "Python 3 (ipykernel)",
   "language": "python",
   "name": "python3"
  },
  "language_info": {
   "codemirror_mode": {
    "name": "ipython",
    "version": 3
   },
   "file_extension": ".py",
   "mimetype": "text/x-python",
   "name": "python",
   "nbconvert_exporter": "python",
   "pygments_lexer": "ipython3",
   "version": "3.8.17"
  }
 },
 "nbformat": 4,
 "nbformat_minor": 5
}
