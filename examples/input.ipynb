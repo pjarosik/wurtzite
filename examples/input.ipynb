{
 "cells": [
  {
   "cell_type": "code",
   "execution_count": null,
   "id": "e1628842-615e-43e9-9686-9c0d2c02ab8c",
   "metadata": {},
   "outputs": [],
   "source": [
    "import numpy as np\n",
    "import wurtzite as wrtz\n",
    "import dataclasses\n",
    "import pickle"
   ]
  },
  {
   "cell_type": "code",
   "execution_count": null,
   "id": "81bce6a6-cacc-4efe-82c7-664842259456",
   "metadata": {},
   "outputs": [],
   "source": [
    "sic = wrtz.io.load(\"data/SiC.alc\")\n",
    "wrtz.visualization.render(molecule=sic, window_size=(800, 800))"
   ]
  },
  {
   "cell_type": "code",
   "execution_count": null,
   "id": "851a3a9d-a9b4-4d73-a694-18a31a366f1e",
   "metadata": {},
   "outputs": [],
   "source": [
    "zns = wrtz.io.load(\"data/ZnS.sy2\")\n",
    "wrtz.visualization.render(molecule=zns, window_size=(800, 800))"
   ]
  },
  {
   "cell_type": "code",
   "execution_count": null,
   "id": "7b7300fa-2883-4adf-ab54-fcd8d4b3e661",
   "metadata": {},
   "outputs": [],
   "source": [
    "graphene = wrtz.io.load(\"data/graphene.xyz\")\n",
    "print(graphene)\n",
    "wrtz.visualization.render(molecule=graphene, window_size=(800, 800))"
   ]
  },
  {
   "cell_type": "code",
   "execution_count": null,
   "id": "12ac6dbb-07b8-49b5-82d1-9757e78d7625",
   "metadata": {},
   "outputs": [],
   "source": [
    "qd = pickle.load(open(\"data/quantum-dot.pkl\", \"rb\"))"
   ]
  },
  {
   "cell_type": "code",
   "execution_count": null,
   "id": "873f5ee3-f868-4efb-aa21-dd8bc6cb0a2b",
   "metadata": {},
   "outputs": [],
   "source": [
    "qd"
   ]
  },
  {
   "cell_type": "code",
   "execution_count": null,
   "id": "3743011d-cb6c-49b8-8b46-0801a0c3c0a0",
   "metadata": {},
   "outputs": [],
   "source": [
    "wrtz.visualization.render(molecule=qd, window_size=(800, 800))"
   ]
  }
 ],
 "metadata": {
  "kernelspec": {
   "display_name": "Python 3 (ipykernel)",
   "language": "python",
   "name": "python3"
  },
  "language_info": {
   "codemirror_mode": {
    "name": "ipython",
    "version": 3
   },
   "file_extension": ".py",
   "mimetype": "text/x-python",
   "name": "python",
   "nbconvert_exporter": "python",
   "pygments_lexer": "ipython3",
   "version": "3.8.13"
  }
 },
 "nbformat": 4,
 "nbformat_minor": 5
}
