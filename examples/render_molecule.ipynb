{
 "cells": [
  {
   "cell_type": "code",
   "execution_count": null,
   "id": "initial_id",
   "metadata": {
    "ExecuteTime": {
     "end_time": "2023-07-31T18:21:28.081788174Z",
     "start_time": "2023-07-31T18:21:28.039162659Z"
    },
    "scrolled": true
   },
   "outputs": [],
   "source": [
    "import numpy as np\n",
    "\n",
    "import wurtzite as wrtz"
   ]
  },
  {
   "cell_type": "code",
   "execution_count": null,
   "id": "9c0566a2b6170ac0",
   "metadata": {
    "collapsed": false,
    "jupyter": {
     "outputs_hidden": false
    }
   },
   "outputs": [],
   "source": [
    "h2o = wrtz.model.Molecule.create(\n",
    "    symbol=[\"H\", \"O\", \"H\"],\n",
    "    bonds=np.array([\n",
    "        [0, 1],\n",
    "        [1, 2]\n",
    "    ]),\n",
    "    coordinates=np.array([\n",
    "        [0.0, 0.0, -1.0],\n",
    "        [0.0, 0.0, 0.0],\n",
    "        [0.0, 0.0, 1.0]\n",
    "    ])\n",
    ")\n",
    "h2o"
   ]
  },
  {
   "cell_type": "code",
   "execution_count": null,
   "id": "9e9adc1605351145",
   "metadata": {
    "collapsed": false,
    "jupyter": {
     "outputs_hidden": false
    }
   },
   "outputs": [],
   "source": [
    "wrtz.visualization.render(h2o)"
   ]
  }
 ],
 "metadata": {
  "kernelspec": {
   "display_name": "Python 3 (ipykernel)",
   "language": "python",
   "name": "python3"
  },
  "language_info": {
   "codemirror_mode": {
    "name": "ipython",
    "version": 3
   },
   "file_extension": ".py",
   "mimetype": "text/x-python",
   "name": "python",
   "nbconvert_exporter": "python",
   "pygments_lexer": "ipython3",
   "version": "3.8.17"
  }
 },
 "nbformat": 4,
 "nbformat_minor": 5
}
